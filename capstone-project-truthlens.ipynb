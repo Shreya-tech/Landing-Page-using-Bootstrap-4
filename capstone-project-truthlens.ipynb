{
 "cells": [
  {
   "cell_type": "markdown",
   "id": "5e9af00f",
   "metadata": {
    "_kg_hide-input": true,
    "papermill": {
     "duration": 0.00516,
     "end_time": "2025-04-19T20:40:00.121206",
     "exception": false,
     "start_time": "2025-04-19T20:40:00.116046",
     "status": "completed"
    },
    "tags": []
   },
   "source": [
    "# 📙**Project Introduction: TruthLens**\n",
    "## 🎥**Overview** \n",
    "Fake news has become a significant concern in the digital age particularly with the rise of social media and short form videos. The rapid spread of misleading or false information can have serious consequences, ranging from public health misinformation to influencing elections.\n",
    "\n",
    "In this capstone project we aim to build an AI driven system that can detect and explain fake news present in short videos format such as Instagram reels or YouTube shots.\n",
    "\n",
    "## 🧠**What is TruthLens? (Overview)** \n",
    "**\"TruthLens\"** is an **AI driven tool** that helps **detect and explain fake news** in short videos it looks closely at the audio visuals and on screen text **pulls out key claims and verifies them** in using trusted web sources by breaking down each showing clear explanation truthless gives users a transparent view of what's true and what's not\n",
    "\n",
    "## 🗝️**Key Conponents:**\n",
    "The **\"TruthLens\" system** performs several key tasks:\n",
    "\n",
    "1. **Fake News Detection:** The system analyzes the content of short videos to assess whether the claims made are likely true or false.\n",
    "2. **Claim Extraction and Analysis:** Using advanced Natural Language Processing (NLP) techniques, the system extracts key claims from both the audio and visual content of the video.\n",
    "3. **Fact-Checking and Grounding:** The extracted claims are then compared against trusted sources using retrieval-augmented generation (RAG) to verify their accuracy. If discrepancies are found, the system provides a detailed explanation of why the claim is likely false, along with credible sources that debunk it.\n",
    "4. **Explanation and Transparency:** Instead of simply labeling content as fake or real, the system generates an explanation for its decision, which enhances transparency and trust in the results.\n",
    "\n",
    "## **🛠️ Technologies & Capabilities Used**\n",
    "\n",
    "| Capability                         | Usage                                                              |\n",
    "|------------------------------------|--------------------------------------------------------------------|\n",
    "| ✅**Video Understanding**            | Extracting frames and analyzing visual content from short videos   |\n",
    "| ✅**Audio Understanding**            | Converting spoken audio to text using speech-to-text models   |\n",
    "| ✅**Document Understanding (OCR)**   | Extracting video frames (on-screen captions, posters) using OCR tools    |\n",
    "| ✅**Web Search / Grounding**  | Verifying claims by searching for credible sources online         |\n",
    "| ✅**RAG (Retreival-Augmented Generation**   | Retrieving evidence and generating explanations based on real-world data   |\n",
    "| ✅**Gen-AI Evaluation**            | Assessing the truthfulness of claims and assigning confidence scores  |\n",
    "| ✅**Agents**            | Modular agents for handling video audio claims verification and output   |\n",
    "| ✅**LangGraph/ workflow visualization**            | Displaying the entire process flow visually at the end of the project  |"
   ]
  },
  {
   "cell_type": "markdown",
   "id": "5f6538f7",
   "metadata": {
    "papermill": {
     "duration": 0.003975,
     "end_time": "2025-04-19T20:40:00.129577",
     "exception": false,
     "start_time": "2025-04-19T20:40:00.125602",
     "status": "completed"
    },
    "tags": []
   },
   "source": [
    "# ✨ **\"TruthLens\" System**\n",
    "TruthLens - Fake News Detection from Short Videos"
   ]
  },
  {
   "cell_type": "markdown",
   "id": "80373f70",
   "metadata": {
    "papermill": {
     "duration": 0.004145,
     "end_time": "2025-04-19T20:40:00.137937",
     "exception": false,
     "start_time": "2025-04-19T20:40:00.133792",
     "status": "completed"
    },
    "tags": []
   },
   "source": [
    "## **📦 0. Install Dependencies**\n"
   ]
  },
  {
   "cell_type": "code",
   "execution_count": 1,
   "id": "20a4128d",
   "metadata": {
    "execution": {
     "iopub.execute_input": "2025-04-19T20:40:00.147642Z",
     "iopub.status.busy": "2025-04-19T20:40:00.147219Z",
     "iopub.status.idle": "2025-04-19T20:42:54.007848Z",
     "shell.execute_reply": "2025-04-19T20:42:54.006187Z"
    },
    "papermill": {
     "duration": 173.867919,
     "end_time": "2025-04-19T20:42:54.009969",
     "exception": false,
     "start_time": "2025-04-19T20:40:00.142050",
     "status": "completed"
    },
    "tags": []
   },
   "outputs": [
    {
     "name": "stdout",
     "output_type": "stream",
     "text": [
      "\u001b[33mWARNING: Skipping whisper as it is not installed.\u001b[0m\u001b[33m\r\n",
      "\u001b[0m\u001b[33mWARNING: Skipping openai-whisper as it is not installed.\u001b[0m\u001b[33m\r\n",
      "\u001b[2K     \u001b[90m━━━━━━━━━━━━━━━━━━━━━━━━━━━━━━━━━━━━━━━━\u001b[0m \u001b[32m60.8/60.8 kB\u001b[0m \u001b[31m1.9 MB/s\u001b[0m eta \u001b[36m0:00:00\u001b[0m\r\n",
      "\u001b[2K   \u001b[90m━━━━━━━━━━━━━━━━━━━━━━━━━━━━━━━━━━━━━━━━\u001b[0m \u001b[32m41.1/41.1 MB\u001b[0m \u001b[31m36.0 MB/s\u001b[0m eta \u001b[36m0:00:00\u001b[0m\r\n",
      "\u001b[2K   \u001b[90m━━━━━━━━━━━━━━━━━━━━━━━━━━━━━━━━━━━━━━━━\u001b[0m \u001b[32m12.1/12.1 MB\u001b[0m \u001b[31m83.6 MB/s\u001b[0m eta \u001b[36m0:00:00\u001b[0m\r\n",
      "\u001b[2K   \u001b[90m━━━━━━━━━━━━━━━━━━━━━━━━━━━━━━━━━━━━━━━━\u001b[0m \u001b[32m49.6/49.6 MB\u001b[0m \u001b[31m30.5 MB/s\u001b[0m eta \u001b[36m0:00:00\u001b[0m\r\n",
      "\u001b[2K   \u001b[90m━━━━━━━━━━━━━━━━━━━━━━━━━━━━━━━━━━━━━━━━\u001b[0m \u001b[32m239.8/239.8 kB\u001b[0m \u001b[31m9.6 MB/s\u001b[0m eta \u001b[36m0:00:00\u001b[0m\r\n",
      "\u001b[?25h\u001b[31mERROR: pip's dependency resolver does not currently take into account all the packages that are installed. This behaviour is the source of the following dependency conflicts.\r\n",
      "gensim 4.3.3 requires scipy<1.14.0,>=1.7.0, but you have scipy 1.14.0 which is incompatible.\r\n",
      "ibis-framework 9.2.0 requires toolz<1,>=0.11, but you have toolz 1.0.0 which is incompatible.\r\n",
      "pymc 5.20.1 requires rich>=13.7.1, but you have rich 13.6.0 which is incompatible.\r\n",
      "plotnine 0.14.5 requires matplotlib>=3.8.0, but you have matplotlib 3.7.5 which is incompatible.\u001b[0m\u001b[31m\r\n",
      "\u001b[2K   \u001b[90m━━━━━━━━━━━━━━━━━━━━━━━━━━━━━━━━━━━━━━━━\u001b[0m \u001b[32m2.5/2.5 MB\u001b[0m \u001b[31m25.4 MB/s\u001b[0m eta \u001b[36m0:00:00\u001b[0m\r\n",
      "\u001b[2K   \u001b[90m━━━━━━━━━━━━━━━━━━━━━━━━━━━━━━━━━━━━━━━━\u001b[0m \u001b[32m1.0/1.0 MB\u001b[0m \u001b[31m38.8 MB/s\u001b[0m eta \u001b[36m0:00:00\u001b[0m\r\n",
      "\u001b[2K   \u001b[90m━━━━━━━━━━━━━━━━━━━━━━━━━━━━━━━━━━━━━━━━\u001b[0m \u001b[32m433.9/433.9 kB\u001b[0m \u001b[31m15.9 MB/s\u001b[0m eta \u001b[36m0:00:00\u001b[0m\r\n",
      "\u001b[2K   \u001b[90m━━━━━━━━━━━━━━━━━━━━━━━━━━━━━━━━━━━━━━━━\u001b[0m \u001b[32m44.4/44.4 kB\u001b[0m \u001b[31m1.5 MB/s\u001b[0m eta \u001b[36m0:00:00\u001b[0m\r\n",
      "\u001b[2K     \u001b[90m━━━━━━━━━━━━━━━━━━━━━━━━━━━━━━━━━━━━━━━━\u001b[0m \u001b[32m43.5/43.5 kB\u001b[0m \u001b[31m1.2 MB/s\u001b[0m eta \u001b[36m0:00:00\u001b[0m\r\n",
      "\u001b[2K   \u001b[90m━━━━━━━━━━━━━━━━━━━━━━━━━━━━━━━━━━━━━━━━\u001b[0m \u001b[32m138.0/138.0 kB\u001b[0m \u001b[31m4.6 MB/s\u001b[0m eta \u001b[36m0:00:00\u001b[0m\r\n",
      "\u001b[2K   \u001b[90m━━━━━━━━━━━━━━━━━━━━━━━━━━━━━━━━━━━━━━━━\u001b[0m \u001b[32m42.0/42.0 kB\u001b[0m \u001b[31m1.9 MB/s\u001b[0m eta \u001b[36m0:00:00\u001b[0m\r\n",
      "\u001b[2K   \u001b[90m━━━━━━━━━━━━━━━━━━━━━━━━━━━━━━━━━━━━━━━━\u001b[0m \u001b[32m47.2/47.2 kB\u001b[0m \u001b[31m2.1 MB/s\u001b[0m eta \u001b[36m0:00:00\u001b[0m\r\n",
      "\u001b[2K   \u001b[90m━━━━━━━━━━━━━━━━━━━━━━━━━━━━━━━━━━━━━━━━\u001b[0m \u001b[32m223.6/223.6 kB\u001b[0m \u001b[31m11.2 MB/s\u001b[0m eta \u001b[36m0:00:00\u001b[0m\r\n",
      "\u001b[2K   \u001b[90m━━━━━━━━━━━━━━━━━━━━━━━━━━━━━━━━━━━━━━━━\u001b[0m \u001b[32m57.6/57.6 kB\u001b[0m \u001b[31m1.5 MB/s\u001b[0m eta \u001b[36m0:00:00\u001b[0m\r\n",
      "\u001b[2K     \u001b[90m━━━━━━━━━━━━━━━━━━━━━━━━━━━━━━━━━━━━━━━━\u001b[0m \u001b[32m172.2/172.2 kB\u001b[0m \u001b[31m3.6 MB/s\u001b[0m eta \u001b[36m0:00:00\u001b[0m\r\n",
      "\u001b[2K     \u001b[90m━━━━━━━━━━━━━━━━━━━━━━━━━━━━━━━━━━━━━━━━\u001b[0m \u001b[32m800.5/800.5 kB\u001b[0m \u001b[31m17.9 MB/s\u001b[0m eta \u001b[36m0:00:00\u001b[0m\r\n",
      "\u001b[?25h  Installing build dependencies ... \u001b[?25l\u001b[?25hdone\r\n",
      "  Getting requirements to build wheel ... \u001b[?25l\u001b[?25hdone\r\n",
      "  Preparing metadata (pyproject.toml) ... \u001b[?25l\u001b[?25hdone\r\n",
      "\u001b[2K   \u001b[90m━━━━━━━━━━━━━━━━━━━━━━━━━━━━━━━━━━━━━━━━\u001b[0m \u001b[32m3.2/3.2 MB\u001b[0m \u001b[31m62.4 MB/s\u001b[0m eta \u001b[36m0:00:00\u001b[0m\r\n",
      "\u001b[2K   \u001b[90m━━━━━━━━━━━━━━━━━━━━━━━━━━━━━━━━━━━━━━━━\u001b[0m \u001b[32m363.4/363.4 MB\u001b[0m \u001b[31m3.5 MB/s\u001b[0m eta \u001b[36m0:00:00\u001b[0m\r\n",
      "\u001b[2K   \u001b[90m━━━━━━━━━━━━━━━━━━━━━━━━━━━━━━━━━━━━━━━━\u001b[0m \u001b[32m664.8/664.8 MB\u001b[0m \u001b[31m2.2 MB/s\u001b[0m eta \u001b[36m0:00:00\u001b[0m\r\n",
      "\u001b[2K   \u001b[90m━━━━━━━━━━━━━━━━━━━━━━━━━━━━━━━━━━━━━━━━\u001b[0m \u001b[32m211.5/211.5 MB\u001b[0m \u001b[31m5.8 MB/s\u001b[0m eta \u001b[36m0:00:00\u001b[0m\r\n",
      "\u001b[2K   \u001b[90m━━━━━━━━━━━━━━━━━━━━━━━━━━━━━━━━━━━━━━━━\u001b[0m \u001b[32m56.3/56.3 MB\u001b[0m \u001b[31m27.3 MB/s\u001b[0m eta \u001b[36m0:00:00\u001b[0m\r\n",
      "\u001b[2K   \u001b[90m━━━━━━━━━━━━━━━━━━━━━━━━━━━━━━━━━━━━━━━━\u001b[0m \u001b[32m127.9/127.9 MB\u001b[0m \u001b[31m9.7 MB/s\u001b[0m eta \u001b[36m0:00:00\u001b[0m\r\n",
      "\u001b[2K   \u001b[90m━━━━━━━━━━━━━━━━━━━━━━━━━━━━━━━━━━━━━━━━\u001b[0m \u001b[32m207.5/207.5 MB\u001b[0m \u001b[31m2.0 MB/s\u001b[0m eta \u001b[36m0:00:00\u001b[0m\r\n",
      "\u001b[2K   \u001b[90m━━━━━━━━━━━━━━━━━━━━━━━━━━━━━━━━━━━━━━━━\u001b[0m \u001b[32m21.1/21.1 MB\u001b[0m \u001b[31m69.6 MB/s\u001b[0m eta \u001b[36m0:00:00\u001b[0m\r\n",
      "\u001b[?25h  Building wheel for openai-whisper (pyproject.toml) ... \u001b[?25l\u001b[?25hdone\r\n",
      "\u001b[31mERROR: pip's dependency resolver does not currently take into account all the packages that are installed. This behaviour is the source of the following dependency conflicts.\r\n",
      "pylibcugraph-cu12 24.12.0 requires pylibraft-cu12==24.12.*, but you have pylibraft-cu12 25.2.0 which is incompatible.\r\n",
      "pylibcugraph-cu12 24.12.0 requires rmm-cu12==24.12.*, but you have rmm-cu12 25.2.0 which is incompatible.\u001b[0m\u001b[31m\r\n",
      "\u001b[2K   \u001b[90m━━━━━━━━━━━━━━━━━━━━━━━━━━━━━━━━━━━━━━━━\u001b[0m \u001b[32m3.3/3.3 MB\u001b[0m \u001b[31m30.0 MB/s\u001b[0m eta \u001b[36m0:00:00\u001b[0m\r\n",
      "\u001b[2K   \u001b[90m━━━━━━━━━━━━━━━━━━━━━━━━━━━━━━━━━━━━━━━━\u001b[0m \u001b[32m43.7/43.7 kB\u001b[0m \u001b[31m1.2 MB/s\u001b[0m eta \u001b[36m0:00:00\u001b[0m\r\n",
      "\u001b[2K   \u001b[90m━━━━━━━━━━━━━━━━━━━━━━━━━━━━━━━━━━━━━━━━\u001b[0m \u001b[32m1.4/1.4 MB\u001b[0m \u001b[31m18.7 MB/s\u001b[0m eta \u001b[36m0:00:00\u001b[0m\r\n",
      "\u001b[?25h\u001b[31mERROR: pip's dependency resolver does not currently take into account all the packages that are installed. This behaviour is the source of the following dependency conflicts.\r\n",
      "google-generativeai 0.8.4 requires google-ai-generativelanguage==0.6.15, but you have google-ai-generativelanguage 0.6.17 which is incompatible.\u001b[0m\u001b[31m\r\n",
      "Get:1 https://cloud.r-project.org/bin/linux/ubuntu jammy-cran40/ InRelease [3,632 B]\r\n",
      "Get:2 https://developer.download.nvidia.com/compute/cuda/repos/ubuntu2204/x86_64  InRelease [1,581 B]\r\n",
      "Get:3 http://security.ubuntu.com/ubuntu jammy-security InRelease [129 kB]\r\n",
      "Hit:4 http://archive.ubuntu.com/ubuntu jammy InRelease\r\n",
      "Get:5 https://r2u.stat.illinois.edu/ubuntu jammy InRelease [6,555 B]\r\n",
      "Get:6 http://archive.ubuntu.com/ubuntu jammy-updates InRelease [128 kB]\r\n",
      "Get:7 https://cloud.r-project.org/bin/linux/ubuntu jammy-cran40/ Packages [73.0 kB]\r\n",
      "Get:8 https://developer.download.nvidia.com/compute/cuda/repos/ubuntu2204/x86_64  Packages [1,604 kB]\r\n",
      "Get:9 https://ppa.launchpadcontent.net/deadsnakes/ppa/ubuntu jammy InRelease [18.1 kB]\r\n",
      "Get:10 http://archive.ubuntu.com/ubuntu jammy-backports InRelease [127 kB]\r\n",
      "Hit:11 https://ppa.launchpadcontent.net/graphics-drivers/ppa/ubuntu jammy InRelease\r\n",
      "Hit:12 https://ppa.launchpadcontent.net/ubuntugis/ppa/ubuntu jammy InRelease\r\n",
      "Get:13 https://r2u.stat.illinois.edu/ubuntu jammy/main amd64 Packages [2,694 kB]\r\n",
      "Get:14 http://security.ubuntu.com/ubuntu jammy-security/main amd64 Packages [2,788 kB]\r\n",
      "Get:15 https://r2u.stat.illinois.edu/ubuntu jammy/main all Packages [8,843 kB]\r\n",
      "Get:16 http://archive.ubuntu.com/ubuntu jammy-updates/restricted amd64 Packages [4,246 kB]\r\n",
      "Get:17 https://ppa.launchpadcontent.net/deadsnakes/ppa/ubuntu jammy/main amd64 Packages [34.3 kB]\r\n",
      "Get:18 http://security.ubuntu.com/ubuntu jammy-security/universe amd64 Packages [1,243 kB]\r\n",
      "Get:19 http://archive.ubuntu.com/ubuntu jammy-updates/universe amd64 Packages [1,542 kB]\r\n",
      "Get:20 http://archive.ubuntu.com/ubuntu jammy-updates/main amd64 Packages [3,140 kB]\r\n",
      "Get:21 http://archive.ubuntu.com/ubuntu jammy-backports/universe amd64 Packages [35.2 kB]\r\n",
      "Fetched 26.7 MB in 3s (9,830 kB/s)\r\n",
      "\r\n",
      "\r\n",
      "\r\n",
      "146 packages can be upgraded. Run 'apt list --upgradable' to see them.\r\n",
      "\u001b[1;33mW: \u001b[0mSkipping acquire of configured file 'main/source/Sources' as repository 'https://r2u.stat.illinois.edu/ubuntu jammy InRelease' does not seem to provide it (sources.list entry misspelt?)\u001b[0m\r\n",
      "\r\n",
      "\r\n",
      "\r\n",
      "ffmpeg is already the newest version (7:4.4.2-0ubuntu0.22.04.1).\r\n",
      "0 upgraded, 0 newly installed, 0 to remove and 146 not upgraded.\r\n",
      "Hit:1 http://security.ubuntu.com/ubuntu jammy-security InRelease\r\n",
      "Hit:2 http://archive.ubuntu.com/ubuntu jammy InRelease\r\n",
      "Hit:3 http://archive.ubuntu.com/ubuntu jammy-updates InRelease\r\n",
      "Hit:4 http://archive.ubuntu.com/ubuntu jammy-backports InRelease\r\n",
      "Hit:5 https://developer.download.nvidia.com/compute/cuda/repos/ubuntu2204/x86_64  InRelease\r\n",
      "Hit:6 https://cloud.r-project.org/bin/linux/ubuntu jammy-cran40/ InRelease\r\n",
      "Hit:7 https://r2u.stat.illinois.edu/ubuntu jammy InRelease\r\n",
      "Hit:8 https://ppa.launchpadcontent.net/deadsnakes/ppa/ubuntu jammy InRelease\r\n",
      "Hit:9 https://ppa.launchpadcontent.net/graphics-drivers/ppa/ubuntu jammy InRelease\r\n",
      "Hit:10 https://ppa.launchpadcontent.net/ubuntugis/ppa/ubuntu jammy InRelease\r\n",
      "\r\n",
      "\r\n",
      "\r\n",
      "146 packages can be upgraded. Run 'apt list --upgradable' to see them.\r\n",
      "\u001b[1;33mW: \u001b[0mSkipping acquire of configured file 'main/source/Sources' as repository 'https://r2u.stat.illinois.edu/ubuntu jammy InRelease' does not seem to provide it (sources.list entry misspelt?)\u001b[0m\r\n",
      "\r\n",
      "\r\n",
      "\r\n",
      "ffmpeg is already the newest version (7:4.4.2-0ubuntu0.22.04.1).\r\n",
      "0 upgraded, 0 newly installed, 0 to remove and 146 not upgraded.\r\n",
      "\n",
      "✅ Installation Completed Successfully!\n"
     ]
    }
   ],
   "source": [
    "# Uninstall existing whisper packages to avoid conflicts\n",
    "!pip uninstall -y whisper openai-whisper\n",
    "\n",
    "#Install Core Dependencies\n",
    "!pip install --upgrade scipy==1.14.0 scikit-learn==1.4.2 opencv-python-headless==4.9.0.80 rich==13.6.0 -q\n",
    "\n",
    "# Install LangChain ecosystem components (quiet mode)\n",
    "!pip install langchain-community -q\n",
    "# Install LangGraph for agent workflows\n",
    "!pip install langgraph==0.3.21 -q\n",
    "# Install YouTube video downloader\n",
    "!pip install pytube --quiet\n",
    "\n",
    "# Install whisper (speech-to-text) with torchaudio backend\n",
    "!pip install yt-dlp openai-whisper torchaudio --quiet\n",
    "# Install search tool for fact verification\n",
    "!pip install -U duckduckgo-search --quiet\n",
    "# Install Google's Gemini AI integration\n",
    "!pip install langchain-google-genai --quiet\n",
    "\n",
    "# system dependencies\n",
    "!sudo apt update && sudo apt install -y ffmpeg\n",
    "\n",
    "\n",
    "!sudo apt update && sudo apt install -y ffmpeg\n",
    "print(\"\\n✅ Installation Completed Successfully!\")"
   ]
  },
  {
   "cell_type": "markdown",
   "id": "132dcda8",
   "metadata": {
    "papermill": {
     "duration": 0.041522,
     "end_time": "2025-04-19T20:42:54.093592",
     "exception": false,
     "start_time": "2025-04-19T20:42:54.052070",
     "status": "completed"
    },
    "tags": []
   },
   "source": [
    "## **🔧 1. Import Required Libraries**\n",
    "We'll use Whisper, OCR, LangChain, and other tools to build a fake news detector."
   ]
  },
  {
   "cell_type": "code",
   "execution_count": 2,
   "id": "ebbec8dd",
   "metadata": {
    "execution": {
     "iopub.execute_input": "2025-04-19T20:42:54.180620Z",
     "iopub.status.busy": "2025-04-19T20:42:54.180201Z",
     "iopub.status.idle": "2025-04-19T20:43:11.971855Z",
     "shell.execute_reply": "2025-04-19T20:43:11.970713Z"
    },
    "papermill": {
     "duration": 17.839403,
     "end_time": "2025-04-19T20:43:11.973752",
     "exception": false,
     "start_time": "2025-04-19T20:42:54.134349",
     "status": "completed"
    },
    "tags": []
   },
   "outputs": [
    {
     "name": "stderr",
     "output_type": "stream",
     "text": [
      "error: XDG_RUNTIME_DIR not set in the environment.\n",
      "ALSA lib confmisc.c:855:(parse_card) cannot find card '0'\n",
      "ALSA lib conf.c:5178:(_snd_config_evaluate) function snd_func_card_inum returned error: No such file or directory\n",
      "ALSA lib confmisc.c:422:(snd_func_concat) error evaluating strings\n",
      "ALSA lib conf.c:5178:(_snd_config_evaluate) function snd_func_concat returned error: No such file or directory\n",
      "ALSA lib confmisc.c:1334:(snd_func_refer) error evaluating name\n",
      "ALSA lib conf.c:5178:(_snd_config_evaluate) function snd_func_refer returned error: No such file or directory\n",
      "ALSA lib conf.c:5701:(snd_config_expand) Evaluate error: No such file or directory\n",
      "ALSA lib pcm.c:2664:(snd_pcm_open_noupdate) Unknown PCM default\n",
      "ALSA lib confmisc.c:855:(parse_card) cannot find card '0'\n",
      "ALSA lib conf.c:5178:(_snd_config_evaluate) function snd_func_card_inum returned error: No such file or directory\n",
      "ALSA lib confmisc.c:422:(snd_func_concat) error evaluating strings\n",
      "ALSA lib conf.c:5178:(_snd_config_evaluate) function snd_func_concat returned error: No such file or directory\n",
      "ALSA lib confmisc.c:1334:(snd_func_refer) error evaluating name\n",
      "ALSA lib conf.c:5178:(_snd_config_evaluate) function snd_func_refer returned error: No such file or directory\n",
      "ALSA lib conf.c:5701:(snd_config_expand) Evaluate error: No such file or directory\n",
      "ALSA lib pcm.c:2664:(snd_pcm_open_noupdate) Unknown PCM default\n"
     ]
    }
   ],
   "source": [
    "# Core Libraries\n",
    "import os\n",
    "import requests\n",
    "import cv2\n",
    "import matplotlib.pyplot as plt\n",
    "import networkx as nx\n",
    "\n",
    "# Media & Processing\n",
    "from pytube import YouTube\n",
    "from moviepy.editor import VideoFileClip\n",
    "import whisper\n",
    "import easyocr\n",
    "\n",
    "# LangChain & LangGraph\n",
    "from langchain.tools import DuckDuckGoSearchRun\n",
    "from langchain.agents import initialize_agent, Tool\n",
    "from langchain.chat_models import ChatOpenAI\n",
    "from langchain.output_parsers import StructuredOutputParser\n",
    "from langgraph.graph import StateGraph\n",
    "\n",
    "# Secrets for API\n",
    "from kaggle_secrets import UserSecretsClient"
   ]
  },
  {
   "cell_type": "markdown",
   "id": "bf12684d",
   "metadata": {
    "papermill": {
     "duration": 0.137227,
     "end_time": "2025-04-19T20:43:12.155837",
     "exception": false,
     "start_time": "2025-04-19T20:43:12.018610",
     "status": "completed"
    },
    "tags": []
   },
   "source": [
    "## **🔐 2. Load API Keys**\n",
    "We use Gemini for advanced claim explanation "
   ]
  },
  {
   "cell_type": "code",
   "execution_count": 3,
   "id": "457608ed",
   "metadata": {
    "execution": {
     "iopub.execute_input": "2025-04-19T20:43:12.244478Z",
     "iopub.status.busy": "2025-04-19T20:43:12.243814Z",
     "iopub.status.idle": "2025-04-19T20:43:14.295443Z",
     "shell.execute_reply": "2025-04-19T20:43:14.294379Z"
    },
    "papermill": {
     "duration": 2.097258,
     "end_time": "2025-04-19T20:43:14.297245",
     "exception": false,
     "start_time": "2025-04-19T20:43:12.199987",
     "status": "completed"
    },
    "tags": []
   },
   "outputs": [],
   "source": [
    "import google.generativeai as genai\n",
    "\n",
    "GOOGLE_API_KEY = UserSecretsClient().get_secret(\"GOOGLE_API_KEY\")\n",
    "genai.configure(api_key=GOOGLE_API_KEY)"
   ]
  },
  {
   "cell_type": "markdown",
   "id": "82fbc067",
   "metadata": {
    "papermill": {
     "duration": 0.040608,
     "end_time": "2025-04-19T20:43:14.379588",
     "exception": false,
     "start_time": "2025-04-19T20:43:14.338980",
     "status": "completed"
    },
    "tags": []
   },
   "source": [
    "## **🎥 3. Download YouTube Video**"
   ]
  },
  {
   "cell_type": "code",
   "execution_count": 4,
   "id": "e68d5834",
   "metadata": {
    "execution": {
     "iopub.execute_input": "2025-04-19T20:43:14.465728Z",
     "iopub.status.busy": "2025-04-19T20:43:14.465051Z",
     "iopub.status.idle": "2025-04-19T20:43:14.471166Z",
     "shell.execute_reply": "2025-04-19T20:43:14.470142Z"
    },
    "papermill": {
     "duration": 0.051054,
     "end_time": "2025-04-19T20:43:14.472848",
     "exception": false,
     "start_time": "2025-04-19T20:43:14.421794",
     "status": "completed"
    },
    "tags": []
   },
   "outputs": [],
   "source": [
    "def download_video(url, filename=\"video.mp4\"):\n",
    "    # Explicitly use python's module version\n",
    "    exit_code = os.system(f\"python -m yt_dlp -f b -o {filename} {url}\")\n",
    "    if exit_code != 0 or not os.path.exists(filename):\n",
    "        raise FileNotFoundError(f\"Download failed. '{filename}' was not created.\")\n",
    "    return filename\n"
   ]
  },
  {
   "cell_type": "markdown",
   "id": "1e57faa6",
   "metadata": {
    "papermill": {
     "duration": 0.041557,
     "end_time": "2025-04-19T20:43:14.558324",
     "exception": false,
     "start_time": "2025-04-19T20:43:14.516767",
     "status": "completed"
    },
    "tags": []
   },
   "source": [
    "## **🔊 4. Extract Audio from Video**"
   ]
  },
  {
   "cell_type": "code",
   "execution_count": 5,
   "id": "c3f2bf3a",
   "metadata": {
    "execution": {
     "iopub.execute_input": "2025-04-19T20:43:14.642260Z",
     "iopub.status.busy": "2025-04-19T20:43:14.641951Z",
     "iopub.status.idle": "2025-04-19T20:43:14.647905Z",
     "shell.execute_reply": "2025-04-19T20:43:14.646492Z"
    },
    "papermill": {
     "duration": 0.050257,
     "end_time": "2025-04-19T20:43:14.649641",
     "exception": false,
     "start_time": "2025-04-19T20:43:14.599384",
     "status": "completed"
    },
    "tags": []
   },
   "outputs": [],
   "source": [
    "def extract_audio(video_path, audio_path=\"audio.wav\"):\n",
    "    clip = VideoFileClip(video_path)\n",
    "    clip.audio.write_audiofile(audio_path)\n",
    "    return audio_path"
   ]
  },
  {
   "cell_type": "markdown",
   "id": "c921ef85",
   "metadata": {
    "papermill": {
     "duration": 0.041181,
     "end_time": "2025-04-19T20:43:14.732434",
     "exception": false,
     "start_time": "2025-04-19T20:43:14.691253",
     "status": "completed"
    },
    "tags": []
   },
   "source": [
    "## **🧠 5. Transcribe Audio using Whisper**"
   ]
  },
  {
   "cell_type": "code",
   "execution_count": 6,
   "id": "05d28610",
   "metadata": {
    "execution": {
     "iopub.execute_input": "2025-04-19T20:43:14.817436Z",
     "iopub.status.busy": "2025-04-19T20:43:14.817067Z",
     "iopub.status.idle": "2025-04-19T20:43:14.821984Z",
     "shell.execute_reply": "2025-04-19T20:43:14.821048Z"
    },
    "papermill": {
     "duration": 0.049326,
     "end_time": "2025-04-19T20:43:14.823759",
     "exception": false,
     "start_time": "2025-04-19T20:43:14.774433",
     "status": "completed"
    },
    "tags": []
   },
   "outputs": [],
   "source": [
    "def transcribe_audio(audio_path):\n",
    "    import whisper  # Import after correct installation\n",
    "    model = whisper.load_model(\"base\")  # Use \"tiny\", \"base\", \"small\", etc.\n",
    "    result = model.transcribe(audio_path)\n",
    "    return result[\"text\"]"
   ]
  },
  {
   "cell_type": "markdown",
   "id": "ec7fe56d",
   "metadata": {
    "papermill": {
     "duration": 0.041279,
     "end_time": "2025-04-19T20:43:14.906767",
     "exception": false,
     "start_time": "2025-04-19T20:43:14.865488",
     "status": "completed"
    },
    "tags": []
   },
   "source": [
    "## **👀 6. Extract Frames & Run OCR**"
   ]
  },
  {
   "cell_type": "code",
   "execution_count": 7,
   "id": "e4ee7b2c",
   "metadata": {
    "execution": {
     "iopub.execute_input": "2025-04-19T20:43:14.992091Z",
     "iopub.status.busy": "2025-04-19T20:43:14.991754Z",
     "iopub.status.idle": "2025-04-19T20:43:14.997921Z",
     "shell.execute_reply": "2025-04-19T20:43:14.997066Z"
    },
    "papermill": {
     "duration": 0.050534,
     "end_time": "2025-04-19T20:43:14.999494",
     "exception": false,
     "start_time": "2025-04-19T20:43:14.948960",
     "status": "completed"
    },
    "tags": []
   },
   "outputs": [],
   "source": [
    "def extract_frames(video_path, interval=30):\n",
    "    cap = cv2.VideoCapture(video_path)\n",
    "    reader = easyocr.Reader(['en'])\n",
    "    text_data = []\n",
    "    frame_id = 0\n",
    "    while cap.isOpened():\n",
    "        ret, frame = cap.read()\n",
    "        if not ret:\n",
    "            break\n",
    "        if frame_id % interval == 0:\n",
    "            result = reader.readtext(frame)\n",
    "            extracted = ' '.join([res[1] for res in result])\n",
    "            text_data.append(extracted)\n",
    "        frame_id += 1\n",
    "    cap.release()\n",
    "    return ' '.join(text_data)"
   ]
  },
  {
   "cell_type": "markdown",
   "id": "ddcb6180",
   "metadata": {
    "papermill": {
     "duration": 0.042385,
     "end_time": "2025-04-19T20:43:15.084558",
     "exception": false,
     "start_time": "2025-04-19T20:43:15.042173",
     "status": "completed"
    },
    "tags": []
   },
   "source": [
    "## **🤖 7. Setup AI Agent with Web Search**"
   ]
  },
  {
   "cell_type": "code",
   "execution_count": 8,
   "id": "de042239",
   "metadata": {
    "execution": {
     "iopub.execute_input": "2025-04-19T20:43:15.169017Z",
     "iopub.status.busy": "2025-04-19T20:43:15.168595Z",
     "iopub.status.idle": "2025-04-19T20:43:15.174752Z",
     "shell.execute_reply": "2025-04-19T20:43:15.173841Z"
    },
    "papermill": {
     "duration": 0.050349,
     "end_time": "2025-04-19T20:43:15.176359",
     "exception": false,
     "start_time": "2025-04-19T20:43:15.126010",
     "status": "completed"
    },
    "tags": []
   },
   "outputs": [],
   "source": [
    "def setup_agent():\n",
    "    # Initialize Gemini model using LangChain wrapper\n",
    "    from langchain_google_genai import ChatGoogleGenerativeAI\n",
    "    llm = ChatGoogleGenerativeAI(model=\"gemini-1.5-pro\", google_api_key=GOOGLE_API_KEY)\n",
    "    \n",
    "    # DuckDuckGo search tool\n",
    "    search = DuckDuckGoSearchRun()\n",
    "    tools = [\n",
    "        Tool(\n",
    "            name=\"WebSearch\",\n",
    "            func=search.run,\n",
    "            description=\"Searches the web for claim verification\"\n",
    "        )\n",
    "    ]\n",
    "    agent = initialize_agent(\n",
    "        tools=tools,\n",
    "        llm=llm,\n",
    "        agent=\"zero-shot-react-description\",\n",
    "        verbose=False\n",
    "    )\n",
    "    return agent"
   ]
  },
  {
   "cell_type": "markdown",
   "id": "61d44e12",
   "metadata": {
    "papermill": {
     "duration": 0.044652,
     "end_time": "2025-04-19T20:43:15.264089",
     "exception": false,
     "start_time": "2025-04-19T20:43:15.219437",
     "status": "completed"
    },
    "tags": []
   },
   "source": [
    "## **🧪 8. Analyze & Verify Claims**"
   ]
  },
  {
   "cell_type": "code",
   "execution_count": 9,
   "id": "f372dcd8",
   "metadata": {
    "execution": {
     "iopub.execute_input": "2025-04-19T20:43:15.351255Z",
     "iopub.status.busy": "2025-04-19T20:43:15.350879Z",
     "iopub.status.idle": "2025-04-19T20:43:15.356953Z",
     "shell.execute_reply": "2025-04-19T20:43:15.355913Z"
    },
    "papermill": {
     "duration": 0.052823,
     "end_time": "2025-04-19T20:43:15.358610",
     "exception": false,
     "start_time": "2025-04-19T20:43:15.305787",
     "status": "completed"
    },
    "tags": []
   },
   "outputs": [],
   "source": [
    "from langchain.output_parsers import ResponseSchema, StructuredOutputParser\n",
    "\n",
    "def analyze_claims(agent, text):\n",
    "    prompt = f\"\"\"Extract and verify claims from this video content. Return ONLY the following structured output:\n",
    "    \n",
    "    ## SUMMARY\n",
    "    (4-line max summary)\n",
    "\n",
    "    ## VERDICT\n",
    "    <VERDICT_EMPHASIS>✔️Correct Video: X% or ❌Fake Video: X%</VERDICT_EMPHASIS>\n",
    "\n",
    "    ## Key findings\n",
    "    1. (One-line fact 1)\n",
    "    2. (One-line fact 2)\n",
    "    3. (One-line fact 3)\n",
    "    4. (One-line fact 4)\n",
    "    5. (One-line fact 5)\n",
    "\n",
    "    [SOURCES]\n",
    "    - Source 1\n",
    "    - Source 2\n",
    "\n",
    "    Content: {text}\"\"\"\n",
    "    \n",
    "    response = agent.run(prompt)\n",
    "    # Post-processing for emphasis\n",
    "    response = response.replace(\"<VERDICT_EMPHASIS>\", \"**\").replace(\"</VERDICT_EMPHASIS>\", \"**\")\n",
    "    return response"
   ]
  },
  {
   "cell_type": "markdown",
   "id": "c2459e28",
   "metadata": {
    "papermill": {
     "duration": 0.043043,
     "end_time": "2025-04-19T20:43:15.443892",
     "exception": false,
     "start_time": "2025-04-19T20:43:15.400849",
     "status": "completed"
    },
    "tags": []
   },
   "source": [
    "## **🗺️ 9. Visualize Process Flow (LangGraph Style)**"
   ]
  },
  {
   "cell_type": "code",
   "execution_count": 10,
   "id": "0b317847",
   "metadata": {
    "execution": {
     "iopub.execute_input": "2025-04-19T20:43:15.532011Z",
     "iopub.status.busy": "2025-04-19T20:43:15.531645Z",
     "iopub.status.idle": "2025-04-19T20:43:15.537799Z",
     "shell.execute_reply": "2025-04-19T20:43:15.536933Z"
    },
    "papermill": {
     "duration": 0.052812,
     "end_time": "2025-04-19T20:43:15.539304",
     "exception": false,
     "start_time": "2025-04-19T20:43:15.486492",
     "status": "completed"
    },
    "tags": []
   },
   "outputs": [],
   "source": [
    "def show_process_flow():\n",
    "    steps = [\n",
    "        \"User pastes video link\",\n",
    "        \"Video downloaded\",\n",
    "        \"Audio extracted\",\n",
    "        \"Audio transcribed\",\n",
    "        \"Frames processed for OCR\",\n",
    "        \"Text + Audio combined\",\n",
    "        \"Claims extracted\",\n",
    "        \"Facts verified using web search\",\n",
    "        \"Final result + explanation shown\"\n",
    "    ]\n",
    "    G = nx.DiGraph()\n",
    "    for i in range(len(steps) - 1):\n",
    "        G.add_edge(steps[i], steps[i+1])\n",
    "    plt.figure(figsize=(10, 6))\n",
    "    pos = nx.spring_layout(G)\n",
    "    nx.draw(G, pos, with_labels=True, node_size=5000, node_color=\"lightblue\", arrows=True)\n",
    "    plt.title(\"TruthLens Process Flow\")\n",
    "    plt.show()"
   ]
  },
  {
   "cell_type": "markdown",
   "id": "092309c1",
   "metadata": {
    "papermill": {
     "duration": 0.043799,
     "end_time": "2025-04-19T20:43:15.624700",
     "exception": false,
     "start_time": "2025-04-19T20:43:15.580901",
     "status": "completed"
    },
    "tags": []
   },
   "source": [
    "## **🚀 10. Full Pipeline: TruthLens in Action**"
   ]
  },
  {
   "cell_type": "code",
   "execution_count": 11,
   "id": "9fcc762a",
   "metadata": {
    "execution": {
     "iopub.execute_input": "2025-04-19T20:43:15.711724Z",
     "iopub.status.busy": "2025-04-19T20:43:15.711387Z",
     "iopub.status.idle": "2025-04-19T20:46:01.012421Z",
     "shell.execute_reply": "2025-04-19T20:46:01.011069Z"
    },
    "papermill": {
     "duration": 165.346609,
     "end_time": "2025-04-19T20:46:01.015210",
     "exception": false,
     "start_time": "2025-04-19T20:43:15.668601",
     "status": "completed"
    },
    "tags": []
   },
   "outputs": [
    {
     "name": "stdout",
     "output_type": "stream",
     "text": [
      "Downloading video... (please wait)\n",
      "[youtube] Extracting URL: https://www.youtube.com/shorts/7j6ensUWrd4\n",
      "[youtube] 7j6ensUWrd4: Downloading webpage\n",
      "[youtube] 7j6ensUWrd4: Downloading tv client config\n",
      "[youtube] 7j6ensUWrd4: Downloading player 9a279502-main\n",
      "[youtube] 7j6ensUWrd4: Downloading tv player API JSON\n",
      "[youtube] 7j6ensUWrd4: Downloading ios player API JSON\n",
      "[youtube] 7j6ensUWrd4: Downloading m3u8 information\n",
      "[info] 7j6ensUWrd4: Downloading 1 format(s): 18\n",
      "[download] Destination: video.mp4\n",
      "[download] 100% of    3.78MiB in 00:00:00 at 23.36MiB/s  \n",
      "✅ Video Downloaded.\n",
      "Extracting audio... (please wait)\n",
      "MoviePy - Writing audio in audio.wav\n"
     ]
    },
    {
     "name": "stderr",
     "output_type": "stream",
     "text": [
      "                                                                      \r"
     ]
    },
    {
     "name": "stdout",
     "output_type": "stream",
     "text": [
      "MoviePy - Done.\n",
      "✅ Audio Extracted.\n",
      "Transcribing audio... (please wait)\n"
     ]
    },
    {
     "name": "stderr",
     "output_type": "stream",
     "text": [
      "100%|███████████████████████████████████████| 139M/139M [00:01<00:00, 79.5MiB/s]\n"
     ]
    },
    {
     "name": "stdout",
     "output_type": "stream",
     "text": [
      "✅ Transcribtion Completed.\n",
      "Extracting text from frames... (please wait)\n",
      "✅ Completed\n",
      "Setting up AI agent...\n",
      "Analyzing claims...\n",
      "\n",
      "--- Analysis Result ---\n",
      "\n",
      "## SUMMARY\n",
      "The video explains the origin of the Indian Ocean's name, highlighting India's historical significance in trade and culture.  For over 2,000 years, India was a major economic hub, influencing the region.  Ancient Greeks and Romans referred to it as \"Indicose Oceanos,\" acknowledging India's dominance.  The name evolved over time, eventually becoming the Indian Ocean.\n",
      "\n",
      "## VERDICT\n",
      "**✔️Correct Video: 90%**\n",
      "\n",
      "## Key findings\n",
      "1. India has a 7,500 km coastline, one of the longest in the region.\n",
      "2. India was a major economic and cultural hub for over 2,000 years.\n",
      "3. Ancient Greeks and Romans called the Indian Ocean \"Indicose Oceanos\".\n",
      "4. The Chinese called the Indian Ocean the \"Western Ocean\".\n",
      "5. By the 15th century, European maps referred to it as the \"Indian Eastern Ocean.\"\n",
      "\n",
      "[SOURCES]\n",
      "- https://www.britannica.com/place/Indian-Ocean\n",
      "- https://en.wikipedia.org/wiki/Indian_Ocean\n",
      "\n",
      "Displaying process flow...\n"
     ]
    },
    {
     "data": {
      "image/png": "[encoded data removed]",
      "text/plain": [
       "<Figure size 1000x600 with 1 Axes>"
      ]
     },
     "metadata": {},
     "output_type": "display_data"
    }
   ],
   "source": [
    "def truthlens_pipeline(video_url):\n",
    "    print(\"Downloading video... (please wait)\")\n",
    "    video = download_video(video_url)\n",
    "    print(\"✅ Video Downloaded.\")\n",
    "    \n",
    "    print(\"Extracting audio... (please wait)\")\n",
    "    audio = extract_audio(video)\n",
    "    print(\"✅ Audio Extracted.\")\n",
    "    \n",
    "    print(\"Transcribing audio... (please wait)\")\n",
    "    transcript = transcribe_audio(audio)\n",
    "    print(\"✅ Transcribtion Completed.\")\n",
    "    \n",
    "    print(\"Extracting text from frames... (please wait)\")\n",
    "    frame_text = extract_frames(video)\n",
    "    full_text = transcript + \"\\n\" + frame_text\n",
    "    print(\"✅ Completed\")\n",
    "    \n",
    "    print(\"Setting up AI agent...\")\n",
    "    agent = setup_agent()\n",
    "    \n",
    "    print(\"Analyzing claims...\")\n",
    "    result = analyze_claims(agent, full_text)\n",
    "    \n",
    "    print(\"\\n--- Analysis Result ---\\n\")\n",
    "    print(result)\n",
    "    \n",
    "    print(\"\\nDisplaying process flow...\")\n",
    "    show_process_flow()\n",
    "\n",
    "# -----------------------------\n",
    "# Example usage\n",
    "# -----------------------------\n",
    "\n",
    "truthlens_pipeline(\"https://www.youtube.com/shorts/7j6ensUWrd4\")"
   ]
  }
 ],
 "metadata": {
  "kaggle": {
   "accelerator": "none",
   "dataSources": [
    {
     "sourceId": 97258,
     "sourceType": "competition"
    }
   ],
   "dockerImageVersionId": 31012,
   "isGpuEnabled": false,
   "isInternetEnabled": true,
   "language": "python",
   "sourceType": "notebook"
  },
  "kernelspec": {
   "display_name": "Python 3",
   "language": "python",
   "name": "python3"
  },
  "language_info": {
   "codemirror_mode": {
    "name": "ipython",
    "version": 3
   },
   "file_extension": ".py",
   "mimetype": "text/x-python",
   "name": "python",
   "nbconvert_exporter": "python",
   "pygments_lexer": "ipython3",
   "version": "3.11.11"
  },
  "papermill": {
   "default_parameters": {},
   "duration": 369.491229,
   "end_time": "2025-04-19T20:46:04.310069",
   "environment_variables": {},
   "exception": null,
   "input_path": "__notebook__.ipynb",
   "output_path": "__notebook__.ipynb",
   "parameters": {},
   "start_time": "2025-04-19T20:39:54.818840",
   "version": "2.6.0"
  }
 },
 "nbformat": 4,
 "nbformat_minor": 5
}
